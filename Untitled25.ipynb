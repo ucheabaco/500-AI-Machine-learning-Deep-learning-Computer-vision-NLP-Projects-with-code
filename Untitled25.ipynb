{
  "cells": [
    {
      "cell_type": "markdown",
      "metadata": {
        "id": "view-in-github",
        "colab_type": "text"
      },
      "source": [
        "<a href=\"https://colab.research.google.com/github/ucheabaco/500-AI-Machine-learning-Deep-learning-Computer-vision-NLP-Projects-with-code/blob/main/Untitled25.ipynb\" target=\"_parent\"><img src=\"https://colab.research.google.com/assets/colab-badge.svg\" alt=\"Open In Colab\"/></a>"
      ]
    },
    {
      "cell_type": "code",
      "execution_count": null,
      "metadata": {
        "colab": {
          "base_uri": "https://localhost:8080/"
        },
        "id": "W05FG-ww3C4P",
        "outputId": "10b3be21-4248-4ecf-8547-34d18ccc06ed"
      },
      "outputs": [
        {
          "name": "stdout",
          "output_type": "stream",
          "text": [
            "Requirement already satisfied: pyswarm in /usr/local/lib/python3.11/dist-packages (0.6)\n",
            "Requirement already satisfied: numpy in /usr/local/lib/python3.11/dist-packages (from pyswarm) (2.0.2)\n"
          ]
        }
      ],
      "source": [
        "pip install pyswarm"
      ]
    },
    {
      "cell_type": "code",
      "execution_count": null,
      "metadata": {
        "colab": {
          "base_uri": "https://localhost:8080/"
        },
        "id": "7MBCDtSY3PfL",
        "outputId": "613e0b9e-273a-475e-896d-9819bfcbcfc4"
      },
      "outputs": [
        {
          "name": "stdout",
          "output_type": "stream",
          "text": [
            "Requirement already satisfied: deap in /usr/local/lib/python3.11/dist-packages (1.4.2)\n",
            "Requirement already satisfied: numpy in /usr/local/lib/python3.11/dist-packages (from deap) (2.0.2)\n"
          ]
        }
      ],
      "source": [
        "pip install deap"
      ]
    },
    {
      "cell_type": "code",
      "execution_count": null,
      "metadata": {
        "id": "Tv0ijCdXwxFY"
      },
      "outputs": [],
      "source": [
        "import numpy as np\n",
        "import matplotlib.pyplot as plt\n",
        "from scipy.optimize import differential_evolution, minimize\n",
        "from pyswarm import pso\n",
        "from deap import base, creator, tools, algorithms"
      ]
    },
    {
      "cell_type": "code",
      "execution_count": null,
      "metadata": {
        "id": "WylpThXHxprx"
      },
      "outputs": [],
      "source": [
        "# Antenna Parameters\n",
        "N_trials = 5\n",
        "array_size = (20, 20)  # 20x20 planar array\n",
        "d_lambda = 0.35  # Element spacing in terms of wavelength\n",
        "lambda_val = 1  # Wavelength normalized to 1"
      ]
    },
    {
      "cell_type": "code",
      "execution_count": null,
      "metadata": {
        "id": "84ZVirpG2HXX"
      },
      "outputs": [],
      "source": [
        "# Function to calculate the antenna factor and directivity\n",
        "def fitness_superdirectivity(w, array_size, d_lambda):\n",
        "    N = np.prod(array_size)\n",
        "    w = np.reshape(w, (-1, 1))  # Reshape weights to column vector\n",
        "    if len(w) != N:\n",
        "        raise ValueError(\"Weight length mismatch.\")\n",
        "\n",
        "    # Define angle range (theta, -90 to 90 degrees)\n",
        "    theta = np.linspace(-np.pi / 2, np.pi / 2, 360)\n",
        "\n",
        "    # Coordinates of antenna array elements\n",
        "    x = np.tile(np.arange(array_size[0]) * d_lambda, (array_size[1], 1))\n",
        "    y = np.tile(np.arange(array_size[1]) * d_lambda, (array_size[0], 1)).T\n",
        "\n",
        "    # Compute the array factor (AF)\n",
        "    k = 2 * np.pi / lambda_val\n",
        "    AF = np.zeros(len(theta))\n",
        "    for t, angle in enumerate(theta):\n",
        "        phase_shift = np.exp(1j * k * (x.flatten() * np.cos(angle) + y.flatten() * np.sin(angle)))\n",
        "        AF[t] = np.abs(np.sum(w.flatten() * phase_shift))\n",
        " # Normalize and calculate directivity\n",
        "    U = AF**2\n",
        "    Prad = np.trapezoid(U, theta)\n",
        "    D = 10 * np.log10(np.max(U) / Prad)\n",
        "    return -D  # Minimize negative directivity for optimization\n",
        "\n"
      ]
    },
    {
      "cell_type": "code",
      "execution_count": null,
      "metadata": {
        "id": "WkPDItFT31Nc"
      },
      "outputs": [],
      "source": [
        "# Optimization function using Differential Evolution (DE)\n",
        "def optimize_with_DE(array_size, d_lambda):\n",
        "    N = np.prod(array_size)\n",
        "    bounds = [(0, 1)] * N  # Weight bounds (0 to 1)\n",
        "\n",
        "    # DE optimization\n",
        "    result = differential_evolution(fitness_superdirectivity, bounds, args=(array_size, d_lambda), maxiter=100, popsize=30, disp=True)\n",
        "\n",
        "    # Extract results\n",
        "    best_w = result.x\n",
        "    best_D = -result.fun\n",
        "    return best_w, best_D, result.nit\n",
        "\n",
        "# Optimization function using Genetic Algorithm (GA)\n",
        "def optimize_with_GA(array_size, d_lambda):\n",
        "    N = np.prod(array_size)\n",
        "    creator.create(\"FitnessMax\", base.Fitness, weights=(1.0,))\n",
        "    creator.create(\"Individual\", list, fitness=creator.FitnessMax)\n",
        "\n",
        "    def eval_ga(individual):\n",
        "        return (fitness_superdirectivity(individual, array_size, d_lambda),)\n",
        "\n",
        "    toolbox = base.Toolbox()\n",
        "    toolbox.register(\"attr_float\", np.random.uniform, 0, 1)\n",
        "    toolbox.register(\"individual\", tools.initRepeat, creator.Individual, toolbox.attr_float, n=N)\n",
        "    toolbox.register(\"population\", tools.initRepeat, list, toolbox.individual)\n",
        "    toolbox.register(\"mate\", tools.cxTwoPoint)\n",
        "    toolbox.register(\"mutate\", tools.mutGaussian, mu=0, sigma=0.1, indpb=0.2)\n",
        "    toolbox.register(\"select\", tools.selTournament, tournsize=3)\n",
        "    toolbox.register(\"evaluate\", eval_ga)\n",
        "\n",
        "    pop = toolbox.population(n=30)\n",
        "    algorithms.eaSimple(toolbox, cxpb=0.7, mutpb=0.2, ngen=100, stats=None, verbose=True)\n",
        "\n",
        "    best_ind = tools.selBest(pop, 1)[0]\n",
        "    best_w = np.array(best_ind)\n",
        "    best_D = -fitness_superdirectivity(best_w, array_size, d_lambda)\n",
        "    return best_w, best_D, 100  # Generations count as iterations"
      ]
    },
    {
      "cell_type": "code",
      "execution_count": null,
      "metadata": {
        "id": "KTlOwIVx4FOw"
      },
      "outputs": [],
      "source": [
        "# Optimization function using Particle Swarm Optimization (PSO)\n",
        "def optimize_with_PSO(array_size, d_lambda):\n",
        "    N = np.prod(array_size)\n",
        "    lb = [0] * N  # Lower bounds (0)\n",
        "    ub = [1] * N  # Upper bounds (1)\n",
        "\n",
        "    # PSO optimization\n",
        "    best_w, best_D = pso(fitness_superdirectivity, lb, ub, args=(array_size, d_lambda), swarmsize=30, maxiter=100)\n",
        "    return best_w, best_D, 100  # Number of iterations\n",
        "\n",
        "# Hybrid Optimization using DE-GA\n",
        "def optimize_with_DE_GA(array_size, d_lambda):\n",
        "    w1, D1, _ = optimize_with_DE(array_size, d_lambda)\n",
        "    w2, D2, _ = optimize_with_GA(array_size, d_lambda)\n",
        "\n",
        "    if D1 > D2:\n",
        "        return w1, D1, 200  # DE converges faster\n",
        "    else:\n",
        "        return w2, D2, 200  # GA converges faster"
      ]
    },
    {
      "cell_type": "code",
      "execution_count": null,
      "metadata": {
        "id": "AsJ0RqW85z4g"
      },
      "outputs": [],
      "source": [
        "# Hybrid Optimization using DE-PSO\n",
        "def optimize_with_DE_PSO(array_size, d_lambda):\n",
        "    w1, D1, _ = optimize_with_DE(array_size, d_lambda)\n",
        "    w2, D2, _ = optimize_with_PSO(array_size, d_lambda)\n",
        "\n",
        "    if D1 > D2:\n",
        "        return w1, D1, 200  # DE converges faster\n",
        "    else:\n",
        "        return w2, D2, 200  # PSO converges faster\n",
        "\n",
        "# Main simulation loop\n",
        "def run_simulation():\n",
        "    algorithms = ['DE', 'GA', 'PSO', 'DE_GA', 'DE_PSO']\n",
        "    results = {}\n",
        "\n",
        "    for alg in algorithms:\n",
        "        max_dir = np.zeros(N_trials)\n",
        "        conv_iter = np.zeros(N_trials)\n",
        "\n",
        "        for trial in range(N_trials):\n",
        "            if alg == 'DE':\n",
        "                best_w, D, iter = optimize_with_DE(array_size, d_lambda)\n",
        "            elif alg == 'GA':\n",
        "                best_w, D, iter = optimize_with_GA(array_size, d_lambda)\n",
        "            elif alg == 'PSO':\n",
        "                best_w, D, iter = optimize_with_PSO(array_size, d_lambda)\n",
        "            elif alg == 'DE_GA':\n",
        "                best_w, D, iter = optimize_with_DE_GA(array_size, d_lambda)\n",
        "            elif alg == 'DE_PSO':\n",
        "                best_w, D, iter = optimize_with_DE_PSO(array_size, d_lambda)\n",
        "\n",
        "            max_dir[trial] = D\n",
        "            conv_iter[trial] = iter\n",
        "\n",
        "        results[alg] = {\n",
        "            'Directivity': max_dir,\n",
        "            'Iterations': conv_iter,\n",
        "            'MeanD': np.mean(max_dir),\n",
        "            'StdD': np.std(max_dir),\n",
        "            'MeanIter': np.mean(conv_iter)\n",
        "        }\n",
        "\n",
        "    # Save and plot results\n",
        "    return results"
      ]
    },
    {
      "cell_type": "code",
      "execution_count": null,
      "metadata": {
        "colab": {
          "background_save": true,
          "base_uri": "https://localhost:8080/"
        },
        "id": "Vrt1wYR76Vo9",
        "outputId": "257f4e1c-8961-4164-9002-a566ee67f763"
      },
      "outputs": [
        {
          "name": "stdout",
          "output_type": "stream",
          "text": [
            "differential_evolution step 1: f(x)= -5.621601998451897\n",
            "differential_evolution step 2: f(x)= -6.343780417058381\n",
            "differential_evolution step 3: f(x)= -6.343780417058381\n",
            "differential_evolution step 4: f(x)= -6.343780417058381\n",
            "differential_evolution step 5: f(x)= -6.435747150738818\n",
            "differential_evolution step 6: f(x)= -6.435747150738818\n",
            "differential_evolution step 7: f(x)= -6.435747150738818\n",
            "differential_evolution step 8: f(x)= -6.728848747865143\n",
            "differential_evolution step 9: f(x)= -6.728848747865143\n",
            "differential_evolution step 10: f(x)= -6.8038484662859435\n",
            "differential_evolution step 11: f(x)= -6.843477092996895\n",
            "differential_evolution step 12: f(x)= -7.077169590518658\n",
            "differential_evolution step 13: f(x)= -7.077169590518658\n",
            "differential_evolution step 14: f(x)= -7.077169590518658\n",
            "differential_evolution step 15: f(x)= -7.077169590518658\n",
            "differential_evolution step 16: f(x)= -7.077169590518658\n",
            "differential_evolution step 17: f(x)= -7.077169590518658\n",
            "differential_evolution step 18: f(x)= -7.077169590518658\n",
            "differential_evolution step 19: f(x)= -7.077169590518658\n",
            "differential_evolution step 20: f(x)= -7.077169590518658\n",
            "differential_evolution step 21: f(x)= -7.077169590518658\n",
            "differential_evolution step 22: f(x)= -7.077169590518658\n",
            "differential_evolution step 23: f(x)= -7.223241642113413\n",
            "differential_evolution step 24: f(x)= -7.223241642113413\n",
            "differential_evolution step 25: f(x)= -7.223241642113413\n",
            "differential_evolution step 26: f(x)= -7.223241642113413\n",
            "differential_evolution step 27: f(x)= -7.247714606510666\n",
            "differential_evolution step 28: f(x)= -7.247714606510666\n",
            "differential_evolution step 29: f(x)= -7.247714606510666\n",
            "differential_evolution step 30: f(x)= -7.247714606510666\n",
            "differential_evolution step 31: f(x)= -7.330669788572073\n",
            "differential_evolution step 32: f(x)= -7.330669788572073\n",
            "differential_evolution step 33: f(x)= -7.330669788572073\n",
            "differential_evolution step 34: f(x)= -7.330669788572073\n",
            "differential_evolution step 35: f(x)= -7.667088102739836\n",
            "differential_evolution step 36: f(x)= -7.832791989819823\n",
            "differential_evolution step 37: f(x)= -7.832791989819823\n",
            "differential_evolution step 38: f(x)= -7.832791989819823\n",
            "differential_evolution step 39: f(x)= -7.832791989819823\n",
            "differential_evolution step 40: f(x)= -7.832791989819823\n",
            "differential_evolution step 41: f(x)= -7.832791989819823\n",
            "differential_evolution step 42: f(x)= -7.8526622961608545\n",
            "differential_evolution step 43: f(x)= -7.8526622961608545\n",
            "differential_evolution step 44: f(x)= -7.8526622961608545\n",
            "differential_evolution step 45: f(x)= -7.8526622961608545\n",
            "differential_evolution step 46: f(x)= -7.8526622961608545\n",
            "differential_evolution step 47: f(x)= -7.857564387508581\n",
            "differential_evolution step 48: f(x)= -7.857564387508581\n",
            "differential_evolution step 49: f(x)= -7.857564387508581\n",
            "differential_evolution step 50: f(x)= -7.857564387508581\n",
            "differential_evolution step 51: f(x)= -7.871153701327641\n",
            "differential_evolution step 52: f(x)= -7.871153701327641\n",
            "differential_evolution step 53: f(x)= -7.998976180137438\n",
            "differential_evolution step 54: f(x)= -7.998976180137438\n",
            "differential_evolution step 55: f(x)= -7.998976180137438\n",
            "differential_evolution step 56: f(x)= -7.998976180137438\n",
            "differential_evolution step 57: f(x)= -7.998976180137438\n",
            "differential_evolution step 58: f(x)= -7.998976180137438\n",
            "differential_evolution step 59: f(x)= -7.998976180137438\n",
            "differential_evolution step 60: f(x)= -7.998976180137438\n",
            "differential_evolution step 61: f(x)= -7.998976180137438\n",
            "differential_evolution step 62: f(x)= -7.998976180137438\n",
            "differential_evolution step 63: f(x)= -7.998976180137438\n",
            "differential_evolution step 64: f(x)= -8.001483817041748\n",
            "differential_evolution step 65: f(x)= -8.001483817041748\n",
            "differential_evolution step 66: f(x)= -8.001483817041748\n",
            "differential_evolution step 67: f(x)= -8.001483817041748\n",
            "differential_evolution step 68: f(x)= -8.001483817041748\n",
            "differential_evolution step 69: f(x)= -8.001483817041748\n",
            "differential_evolution step 70: f(x)= -8.001483817041748\n",
            "differential_evolution step 71: f(x)= -8.001483817041748\n",
            "differential_evolution step 72: f(x)= -8.001483817041748\n",
            "differential_evolution step 73: f(x)= -8.001483817041748\n",
            "differential_evolution step 74: f(x)= -8.061116379933779\n",
            "differential_evolution step 75: f(x)= -8.061116379933779\n",
            "differential_evolution step 76: f(x)= -8.061116379933779\n",
            "differential_evolution step 77: f(x)= -8.061116379933779\n",
            "differential_evolution step 78: f(x)= -8.061116379933779\n",
            "differential_evolution step 79: f(x)= -8.061116379933779\n",
            "differential_evolution step 80: f(x)= -8.061116379933779\n",
            "differential_evolution step 81: f(x)= -8.082406661737782\n",
            "differential_evolution step 82: f(x)= -8.082406661737782\n",
            "differential_evolution step 83: f(x)= -8.082406661737782\n",
            "differential_evolution step 84: f(x)= -8.082406661737782\n",
            "differential_evolution step 85: f(x)= -8.082406661737782\n",
            "differential_evolution step 86: f(x)= -8.082406661737782\n",
            "differential_evolution step 87: f(x)= -8.082406661737782\n",
            "differential_evolution step 88: f(x)= -8.082406661737782\n",
            "differential_evolution step 89: f(x)= -8.082406661737782\n",
            "differential_evolution step 90: f(x)= -8.082406661737782\n",
            "differential_evolution step 91: f(x)= -8.082406661737782\n",
            "differential_evolution step 92: f(x)= -8.082406661737782\n",
            "differential_evolution step 93: f(x)= -8.082406661737782\n",
            "differential_evolution step 94: f(x)= -8.224946978553206\n",
            "differential_evolution step 95: f(x)= -8.224946978553206\n",
            "differential_evolution step 96: f(x)= -8.224946978553206\n",
            "differential_evolution step 97: f(x)= -8.224946978553206\n",
            "differential_evolution step 98: f(x)= -8.224946978553206\n",
            "differential_evolution step 99: f(x)= -8.224946978553206\n",
            "differential_evolution step 100: f(x)= -8.224946978553206\n",
            "Polishing solution with 'L-BFGS-B'\n",
            "differential_evolution step 1: f(x)= -5.806746751378978\n",
            "differential_evolution step 2: f(x)= -6.0253100967056605\n",
            "differential_evolution step 3: f(x)= -6.203917348976936\n",
            "differential_evolution step 4: f(x)= -6.203917348976936\n",
            "differential_evolution step 5: f(x)= -6.595820213538575\n",
            "differential_evolution step 6: f(x)= -6.618111975138996\n",
            "differential_evolution step 7: f(x)= -6.618111975138996\n",
            "differential_evolution step 8: f(x)= -6.618111975138996\n"
          ]
        }
      ],
      "source": [
        "\n",
        "# Plotting function\n",
        "def plot_results(results):\n",
        "    algorithms = list(results.keys())\n",
        "\n",
        "    # Plot Mean Directivity\n",
        "    plt.figure()\n",
        "    mean_directivity = [results[alg]['MeanD'] for alg in algorithms]\n",
        "    plt.bar(algorithms, mean_directivity)\n",
        "    plt.title('Mean Directivity per Algorithm')\n",
        "    plt.ylabel('Directivity (dB)')\n",
        "\n",
        "    # Plot Standard Deviation of Directivity\n",
        "    plt.figure()\n",
        "    std_directivity = [results[alg]['StdD'] for alg in algorithms]\n",
        "    plt.bar(algorithms, std_directivity)\n",
        "    plt.title('Standard Deviation of Directivity')\n",
        "    plt.ylabel('Std Dev of Directivity')\n",
        "\n",
        "    # Plot Average Iterations to Convergence\n",
        "    plt.figure()\n",
        "    mean_iter = [results[alg]['MeanIter'] for alg in algorithms]\n",
        "    plt.bar(algorithms, mean_iter)\n",
        "    plt.title('Convergence Rate (Average Iterations)')\n",
        "    plt.ylabel('Avg Iterations')\n",
        "\n",
        "    # Show all plots\n",
        "    plt.show()\n",
        "\n",
        "# Running the simulation\n",
        "results = run_simulation()\n",
        "\n",
        "# Plot the results\n",
        "plot_results(results)"
      ]
    }
  ],
  "metadata": {
    "colab": {
      "provenance": [],
      "authorship_tag": "ABX9TyNvpipoUdwVA0jYE7FeUPF2",
      "include_colab_link": true
    },
    "kernelspec": {
      "display_name": "Python 3",
      "name": "python3"
    },
    "language_info": {
      "name": "python"
    }
  },
  "nbformat": 4,
  "nbformat_minor": 0
}